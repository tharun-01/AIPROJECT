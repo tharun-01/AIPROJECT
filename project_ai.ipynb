{
  "nbformat": 4,
  "nbformat_minor": 0,
  "metadata": {
    "colab": {
      "name": "project ai.ipynb",
      "provenance": [],
      "collapsed_sections": [],
      "authorship_tag": "ABX9TyPID4ibII5FlmLO56Ra+up+",
      "include_colab_link": true
    },
    "kernelspec": {
      "name": "python3",
      "display_name": "Python 3"
    }
  },
  "cells": [
    {
      "cell_type": "markdown",
      "metadata": {
        "id": "view-in-github",
        "colab_type": "text"
      },
      "source": [
        "<a href=\"https://colab.research.google.com/github/tharun-01/AIPROJECT/blob/master/project_ai.ipynb\" target=\"_parent\"><img src=\"https://colab.research.google.com/assets/colab-badge.svg\" alt=\"Open In Colab\"/></a>"
      ]
    },
    {
      "cell_type": "code",
      "metadata": {
        "id": "EC3kuXT0xxjM",
        "colab_type": "code",
        "colab": {}
      },
      "source": [
        ""
      ],
      "execution_count": 0,
      "outputs": []
    },
    {
      "cell_type": "code",
      "metadata": {
        "id": "_iMLSMBqx1SM",
        "colab_type": "code",
        "colab": {}
      },
      "source": [
        ""
      ],
      "execution_count": 0,
      "outputs": []
    },
    {
      "cell_type": "code",
      "metadata": {
        "id": "sqK5In3ix1gB",
        "colab_type": "code",
        "colab": {}
      },
      "source": [
        "pip install newspaper3k"
      ],
      "execution_count": 0,
      "outputs": []
    },
    {
      "cell_type": "code",
      "metadata": {
        "id": "X1CUjeBOx33m",
        "colab_type": "code",
        "colab": {}
      },
      "source": [
        "from textblob import TextBlob\n",
        "import nltk\n",
        "from newspaper import Article"
      ],
      "execution_count": 0,
      "outputs": []
    },
    {
      "cell_type": "code",
      "metadata": {
        "id": "K3tWJPI_y-5O",
        "colab_type": "code",
        "colab": {}
      },
      "source": [
        ""
      ],
      "execution_count": 0,
      "outputs": []
    },
    {
      "cell_type": "code",
      "metadata": {
        "id": "6-Izn5VUzNmz",
        "colab_type": "code",
        "colab": {
          "base_uri": "https://localhost:8080/",
          "height": 67
        },
        "outputId": "75f58f64-e4d2-4fe6-82ae-5db0b8e5a754"
      },
      "source": [
        "article.download()\n",
        "article.parse\n",
        "nltk.download('punkt')\n",
        "article.nlp"
      ],
      "execution_count": 18,
      "outputs": [
        {
          "output_type": "stream",
          "text": [
            "[nltk_data] Downloading package punkt to /root/nltk_data...\n",
            "[nltk_data]   Package punkt is already up-to-date!\n"
          ],
          "name": "stdout"
        },
        {
          "output_type": "execute_result",
          "data": {
            "text/plain": [
              "<bound method Article.nlp of <newspaper.article.Article object at 0x7f79fab7f5f8>>"
            ]
          },
          "metadata": {
            "tags": []
          },
          "execution_count": 18
        }
      ]
    },
    {
      "cell_type": "code",
      "metadata": {
        "id": "4EWfmAzhz8-Y",
        "colab_type": "code",
        "colab": {
          "base_uri": "https://localhost:8080/",
          "height": 67
        },
        "outputId": "5ce2a42c-d3c4-4dfa-eac0-7cf8d1998dc5"
      },
      "source": [
        "article.download()\n",
        "article.parse\n",
        "nltk.download('punkt')\n",
        "article.nlp"
      ],
      "execution_count": 24,
      "outputs": [
        {
          "output_type": "stream",
          "text": [
            "[nltk_data] Downloading package punkt to /root/nltk_data...\n",
            "[nltk_data]   Package punkt is already up-to-date!\n"
          ],
          "name": "stdout"
        },
        {
          "output_type": "execute_result",
          "data": {
            "text/plain": [
              "<bound method Article.nlp of <newspaper.article.Article object at 0x7f79fa6bfba8>>"
            ]
          },
          "metadata": {
            "tags": []
          },
          "execution_count": 24
        }
      ]
    },
    {
      "cell_type": "code",
      "metadata": {
        "id": "NBq8q6KQzkDK",
        "colab_type": "code",
        "colab": {
          "base_uri": "https://localhost:8080/",
          "height": 70
        },
        "outputId": "be089744-c416-4c5b-b931-093fad1100ac"
      },
      "source": [
        "text=input()\n",
        "print(text)\n",
        "\n"
      ],
      "execution_count": 47,
      "outputs": [
        {
          "output_type": "stream",
          "text": [
            "thank you soo much thank you soo much you added glitter to my lifethank you soo much thank you soo much you added glitter to my lifethank you soo much thank you soo much you added glitter to my lifethank you soo much thank you soo much you added glitter to my lifethank you soo much thank you soo much you added glitter to my lifethank you soo much thank you soo much you added glitter to my lifethank you soo much thank you soo much you added glitter to my lifethank you soo much thank you soo much you added glitter to my lifethank you soo much thank you soo much you added glitter to my lifethank you soo much thank you soo much you added glitter to my life\n",
            "thank you soo much thank you soo much you added glitter to my lifethank you soo much thank you soo much you added glitter to my lifethank you soo much thank you soo much you added glitter to my lifethank you soo much thank you soo much you added glitter to my lifethank you soo much thank you soo much you added glitter to my lifethank you soo much thank you soo much you added glitter to my lifethank you soo much thank you soo much you added glitter to my lifethank you soo much thank you soo much you added glitter to my lifethank you soo much thank you soo much you added glitter to my lifethank you soo much thank you soo much you added glitter to my life\n"
          ],
          "name": "stdout"
        }
      ]
    },
    {
      "cell_type": "code",
      "metadata": {
        "id": "LjVQUqsV1h33",
        "colab_type": "code",
        "colab": {
          "base_uri": "https://localhost:8080/",
          "height": 34
        },
        "outputId": "dd2b4fb5-6589-40fe-80c8-7f4b416bcb67"
      },
      "source": [
        "obj = TextBlob(text)\n",
        "sentiment=obj.sentiment.polarity\n",
        "print(sentiment)\n"
      ],
      "execution_count": 48,
      "outputs": [
        {
          "output_type": "stream",
          "text": [
            "0.20000000000000004\n"
          ],
          "name": "stdout"
        }
      ]
    },
    {
      "cell_type": "code",
      "metadata": {
        "id": "dLOeqcKX1Tjy",
        "colab_type": "code",
        "colab": {
          "base_uri": "https://localhost:8080/",
          "height": 34
        },
        "outputId": "817474b5-12c6-4eca-dfec-c82acad64204"
      },
      "source": [
        "if(sentiment==0):\n",
        "  print(\"the person is in neutrol mode\")\n",
        "elif(sentiment<-0.5):\n",
        "  print(\"the person is sad\")\n",
        "elif(sentiment<0):\n",
        "  print(\"the person is in negative mood\")\n",
        "elif (sentiment>0.5):\n",
        "  print(\"the person is happy\")\n",
        "else:\n",
        "  print(\"the text is in positive mood\")"
      ],
      "execution_count": 44,
      "outputs": [
        {
          "output_type": "stream",
          "text": [
            "the person is sad\n"
          ],
          "name": "stdout"
        }
      ]
    },
    {
      "cell_type": "markdown",
      "metadata": {
        "id": "A6rpUqDN1Czw",
        "colab_type": "text"
      },
      "source": [
        ""
      ]
    },
    {
      "cell_type": "code",
      "metadata": {
        "id": "ts_mfYhj1Cv0",
        "colab_type": "code",
        "colab": {}
      },
      "source": [
        ""
      ],
      "execution_count": 0,
      "outputs": []
    }
  ]
}